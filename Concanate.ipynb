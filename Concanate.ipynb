{
 "cells": [
  {
   "cell_type": "code",
   "execution_count": null,
   "metadata": {
    "colab": {
     "base_uri": "https://localhost:8080/"
    },
    "executionInfo": {
     "elapsed": 12675,
     "status": "ok",
     "timestamp": 1649097568799,
     "user": {
      "displayName": "Mert Can Çakmak",
      "userId": "13450420594143474637"
     },
     "user_tz": -180
    },
    "id": "RwbINEn9AvJu",
    "outputId": "83668516-a482-4a15-cecb-1ef18c00a653"
   },
   "outputs": [
    {
     "name": "stdout",
     "output_type": "stream",
     "text": [
      "Collecting sentence-transformers\n",
      "  Downloading sentence-transformers-2.2.0.tar.gz (79 kB)\n",
      "\u001b[K     |████████████████████████████████| 79 kB 3.2 MB/s \n",
      "\u001b[?25hCollecting transformers<5.0.0,>=4.6.0\n",
      "  Downloading transformers-4.17.0-py3-none-any.whl (3.8 MB)\n",
      "\u001b[K     |████████████████████████████████| 3.8 MB 11.0 MB/s \n",
      "\u001b[?25hRequirement already satisfied: tqdm in /usr/local/lib/python3.7/dist-packages (from sentence-transformers) (4.63.0)\n",
      "Requirement already satisfied: torch>=1.6.0 in /usr/local/lib/python3.7/dist-packages (from sentence-transformers) (1.10.0+cu111)\n",
      "Requirement already satisfied: torchvision in /usr/local/lib/python3.7/dist-packages (from sentence-transformers) (0.11.1+cu111)\n",
      "Requirement already satisfied: numpy in /usr/local/lib/python3.7/dist-packages (from sentence-transformers) (1.21.5)\n",
      "Requirement already satisfied: scikit-learn in /usr/local/lib/python3.7/dist-packages (from sentence-transformers) (1.0.2)\n",
      "Requirement already satisfied: scipy in /usr/local/lib/python3.7/dist-packages (from sentence-transformers) (1.4.1)\n",
      "Requirement already satisfied: nltk in /usr/local/lib/python3.7/dist-packages (from sentence-transformers) (3.2.5)\n",
      "Collecting sentencepiece\n",
      "  Downloading sentencepiece-0.1.96-cp37-cp37m-manylinux_2_17_x86_64.manylinux2014_x86_64.whl (1.2 MB)\n",
      "\u001b[K     |████████████████████████████████| 1.2 MB 43.7 MB/s \n",
      "\u001b[?25hCollecting huggingface-hub\n",
      "  Downloading huggingface_hub-0.4.0-py3-none-any.whl (67 kB)\n",
      "\u001b[K     |████████████████████████████████| 67 kB 4.2 MB/s \n",
      "\u001b[?25hRequirement already satisfied: typing-extensions in /usr/local/lib/python3.7/dist-packages (from torch>=1.6.0->sentence-transformers) (3.10.0.2)\n",
      "Collecting pyyaml>=5.1\n",
      "  Downloading PyYAML-6.0-cp37-cp37m-manylinux_2_5_x86_64.manylinux1_x86_64.manylinux_2_12_x86_64.manylinux2010_x86_64.whl (596 kB)\n",
      "\u001b[K     |████████████████████████████████| 596 kB 45.2 MB/s \n",
      "\u001b[?25hRequirement already satisfied: requests in /usr/local/lib/python3.7/dist-packages (from transformers<5.0.0,>=4.6.0->sentence-transformers) (2.23.0)\n",
      "Collecting sacremoses\n",
      "  Downloading sacremoses-0.0.49-py3-none-any.whl (895 kB)\n",
      "\u001b[K     |████████████████████████████████| 895 kB 52.0 MB/s \n",
      "\u001b[?25hRequirement already satisfied: packaging>=20.0 in /usr/local/lib/python3.7/dist-packages (from transformers<5.0.0,>=4.6.0->sentence-transformers) (21.3)\n",
      "Collecting tokenizers!=0.11.3,>=0.11.1\n",
      "  Downloading tokenizers-0.11.6-cp37-cp37m-manylinux_2_12_x86_64.manylinux2010_x86_64.whl (6.5 MB)\n",
      "\u001b[K     |████████████████████████████████| 6.5 MB 42.6 MB/s \n",
      "\u001b[?25hRequirement already satisfied: filelock in /usr/local/lib/python3.7/dist-packages (from transformers<5.0.0,>=4.6.0->sentence-transformers) (3.6.0)\n",
      "Requirement already satisfied: importlib-metadata in /usr/local/lib/python3.7/dist-packages (from transformers<5.0.0,>=4.6.0->sentence-transformers) (4.11.3)\n",
      "Requirement already satisfied: regex!=2019.12.17 in /usr/local/lib/python3.7/dist-packages (from transformers<5.0.0,>=4.6.0->sentence-transformers) (2019.12.20)\n",
      "Requirement already satisfied: pyparsing!=3.0.5,>=2.0.2 in /usr/local/lib/python3.7/dist-packages (from packaging>=20.0->transformers<5.0.0,>=4.6.0->sentence-transformers) (3.0.7)\n",
      "Requirement already satisfied: zipp>=0.5 in /usr/local/lib/python3.7/dist-packages (from importlib-metadata->transformers<5.0.0,>=4.6.0->sentence-transformers) (3.7.0)\n",
      "Requirement already satisfied: six in /usr/local/lib/python3.7/dist-packages (from nltk->sentence-transformers) (1.15.0)\n",
      "Requirement already satisfied: urllib3!=1.25.0,!=1.25.1,<1.26,>=1.21.1 in /usr/local/lib/python3.7/dist-packages (from requests->transformers<5.0.0,>=4.6.0->sentence-transformers) (1.24.3)\n",
      "Requirement already satisfied: chardet<4,>=3.0.2 in /usr/local/lib/python3.7/dist-packages (from requests->transformers<5.0.0,>=4.6.0->sentence-transformers) (3.0.4)\n",
      "Requirement already satisfied: idna<3,>=2.5 in /usr/local/lib/python3.7/dist-packages (from requests->transformers<5.0.0,>=4.6.0->sentence-transformers) (2.10)\n",
      "Requirement already satisfied: certifi>=2017.4.17 in /usr/local/lib/python3.7/dist-packages (from requests->transformers<5.0.0,>=4.6.0->sentence-transformers) (2021.10.8)\n",
      "Requirement already satisfied: joblib in /usr/local/lib/python3.7/dist-packages (from sacremoses->transformers<5.0.0,>=4.6.0->sentence-transformers) (1.1.0)\n",
      "Requirement already satisfied: click in /usr/local/lib/python3.7/dist-packages (from sacremoses->transformers<5.0.0,>=4.6.0->sentence-transformers) (7.1.2)\n",
      "Requirement already satisfied: threadpoolctl>=2.0.0 in /usr/local/lib/python3.7/dist-packages (from scikit-learn->sentence-transformers) (3.1.0)\n",
      "Requirement already satisfied: pillow!=8.3.0,>=5.3.0 in /usr/local/lib/python3.7/dist-packages (from torchvision->sentence-transformers) (7.1.2)\n",
      "Building wheels for collected packages: sentence-transformers\n",
      "  Building wheel for sentence-transformers (setup.py) ... \u001b[?25l\u001b[?25hdone\n",
      "  Created wheel for sentence-transformers: filename=sentence_transformers-2.2.0-py3-none-any.whl size=120747 sha256=b8d80e2b919df6db6ff7da69dcf51f0cd297a036aff3081f99ff84e1279f6db9\n",
      "  Stored in directory: /root/.cache/pip/wheels/83/c0/df/b6873ab7aac3f2465aa9144b6b4c41c4391cfecc027c8b07e7\n",
      "Successfully built sentence-transformers\n",
      "Installing collected packages: pyyaml, tokenizers, sacremoses, huggingface-hub, transformers, sentencepiece, sentence-transformers\n",
      "  Attempting uninstall: pyyaml\n",
      "    Found existing installation: PyYAML 3.13\n",
      "    Uninstalling PyYAML-3.13:\n",
      "      Successfully uninstalled PyYAML-3.13\n",
      "Successfully installed huggingface-hub-0.4.0 pyyaml-6.0 sacremoses-0.0.49 sentence-transformers-2.2.0 sentencepiece-0.1.96 tokenizers-0.11.6 transformers-4.17.0\n"
     ]
    }
   ],
   "source": [
    "!pip install -U sentence-transformers"
   ]
  },
  {
   "cell_type": "code",
   "execution_count": null,
   "metadata": {
    "colab": {
     "base_uri": "https://localhost:8080/"
    },
    "executionInfo": {
     "elapsed": 16201,
     "status": "ok",
     "timestamp": 1649097619317,
     "user": {
      "displayName": "Mert Can Çakmak",
      "userId": "13450420594143474637"
     },
     "user_tz": -180
    },
    "id": "OL8lEKjh6DVj",
    "outputId": "422af938-6d05-4779-b8d1-ffdbd491157c"
   },
   "outputs": [
    {
     "name": "stdout",
     "output_type": "stream",
     "text": [
      "Mounted at /content/drive\n",
      "/content/drive/My Drive/Colab Notebooks/Q&A Bot/Scholarship Q&A\n"
     ]
    }
   ],
   "source": [
    "from google.colab import drive \n",
    "drive.mount('/content/drive') \n",
    "%cd /content/drive/My\\ Drive/Colab Notebooks/Q&A Bot/Scholarship Q&A"
   ]
  },
  {
   "cell_type": "code",
   "execution_count": null,
   "metadata": {
    "id": "1H_ZnBoa6Q7c"
   },
   "outputs": [],
   "source": [
    "import pandas as pd\n",
    "from sentence_transformers import SentenceTransformer, util\n",
    "from sklearn.metrics.pairwise import cosine_similarity\n",
    "import os\n",
    "import numpy as np\n",
    "import re"
   ]
  },
  {
   "cell_type": "code",
   "execution_count": null,
   "metadata": {
    "colab": {
     "base_uri": "https://localhost:8080/"
    },
    "executionInfo": {
     "elapsed": 11,
     "status": "ok",
     "timestamp": 1648676145256,
     "user": {
      "displayName": "Mert Can Çakmak",
      "userId": "13450420594143474637"
     },
     "user_tz": -180
    },
    "id": "8yml5mEbFf8R",
    "outputId": "ffa8da9e-744d-4b43-d2f4-3e8ea65f58db"
   },
   "outputs": [
    {
     "name": "stdout",
     "output_type": "stream",
     "text": [
      "file count: 9\n"
     ]
    }
   ],
   "source": [
    "count = 0\n",
    "dir_path = '/content/drive/MyDrive/Colab Notebooks/Q&A Bot/Scholarship Q&A/answers'\n",
    "for path in os.scandir(dir_path):\n",
    "    if path.is_file():\n",
    "        count += 1\n",
    "print('file count:', count)"
   ]
  },
  {
   "cell_type": "code",
   "execution_count": null,
   "metadata": {
    "id": "UCJK2CjJFiKK"
   },
   "outputs": [],
   "source": [
    "df_array = []\n",
    "for i in range(1,count+1):\n",
    "    df_array.append(pd.read_csv(\"answers/data\"+str(i)+\".csv\"))\n",
    "\n",
    "raw_data_robert = pd.concat(df_array)"
   ]
  },
  {
   "cell_type": "code",
   "execution_count": null,
   "metadata": {
    "id": "HvxTL4skUVU1"
   },
   "outputs": [],
   "source": [
    "raw_data_bert = pd.read_csv('raw_data_bert.csv')\n",
    "raw_data_bert.insert(3, 'score2', raw_data_robert['score'].values)"
   ]
  },
  {
   "cell_type": "code",
   "execution_count": null,
   "metadata": {
    "id": "QbCUf4NkW_oM"
   },
   "outputs": [],
   "source": [
    "raw_data_bert.drop( raw_data_bert[ (raw_data_bert['score'] * raw_data_bert['score2'] < 0.01) | (raw_data_bert['score']< 0.075) | (raw_data_bert['score2']< 0.075)].index , inplace=True)\n",
    "raw_data_bert.index = pd.RangeIndex(len(raw_data_bert.index))"
   ]
  },
  {
   "cell_type": "code",
   "execution_count": null,
   "metadata": {
    "id": "5X16vqxWom8G"
   },
   "outputs": [],
   "source": [
    "raw_data_bert.to_csv(\"model_score_filtered.csv\", index=False)"
   ]
  },
  {
   "cell_type": "code",
   "execution_count": null,
   "metadata": {
    "id": "81sXw5Jo6p3x"
   },
   "outputs": [],
   "source": [
    "#for df in df_array:\n",
    "#    df.drop(df[df['score'] < 0.01].index, inplace = True)\n",
    "#    df.index = pd.RangeIndex(len(df.index))"
   ]
  },
  {
   "cell_type": "code",
   "execution_count": null,
   "metadata": {
    "id": "j11-WIR1KgIQ"
   },
   "outputs": [],
   "source": [
    "model = SentenceTransformer('all-mpnet-base-v2')\n"
   ]
  },
  {
   "cell_type": "code",
   "execution_count": null,
   "metadata": {
    "id": "_lQI-dnj05xP"
   },
   "outputs": [],
   "source": [
    "# full data\n",
    "\n",
    "similarities_answer = []\n",
    "similarities_topic = []\n",
    "multiplication = []\n",
    "\n",
    "questions = raw_data_bert.question.unique()\n",
    "\n",
    "topics = [\"score\",\"score\",\"institution\",\"grade\",\"place\",\"money\",\"ethnicity\",\"race\",\"nationality\",\"age\",\"gender\",\"religion\",\"ability\",\"disability\",\"major\",\"date\",\"score\",\"institution\"]\n",
    "\n",
    "for question,topic in zip(questions,topics):\n",
    "\n",
    "    sentences = raw_data_bert[raw_data_bert.question == question].answer.to_list()\n",
    "    scores = raw_data_bert[raw_data_bert.question == question].score.to_list()\n",
    "    scores2 = raw_data_bert[raw_data_bert.question == question].score2.to_list()\n",
    "\n",
    "    \n",
    "    sentence_embeddings = model.encode(sentences)\n",
    "    \n",
    "    topic_embedding = model.encode(topic)\n",
    "    \n",
    "    for sentence_embedding, score, score2 in zip(sentence_embeddings, scores, scores2):\n",
    "\n",
    "        similarity = cosine_similarity([sentence_embedding],sentence_embeddings[:])\n",
    "        sum = similarity.sum() - 1 # Substract itself \"1\"\n",
    "        sim_ans = sum/len(sentences)\n",
    "        similarities_answer.append(sim_ans) \n",
    "\n",
    "        sim_topic = cosine_similarity([sentence_embedding],[topic_embedding])[0][0]\n",
    "        if(sim_topic<0):\n",
    "            similarities_topic.append(0)\n",
    "        else:\n",
    "            similarities_topic.append(sim_topic)\n",
    "        \n",
    "        mul = score*score2*sim_ans*sim_topic\n",
    "        if mul < 0:\n",
    "          multiplication.append(0)\n",
    "        else:\n",
    "          multiplication.append(mul)\n",
    "\n",
    "raw_data_bert.insert(4, 'sim_ans_ans_score', similarities_answer)\n",
    "raw_data_bert.insert(5, 'sim_topic_ans_score', similarities_topic)\n",
    "raw_data_bert.insert(6, 'multiplication', multiplication)"
   ]
  },
  {
   "cell_type": "code",
   "execution_count": null,
   "metadata": {
    "id": "ggz-sM8N052F"
   },
   "outputs": [],
   "source": [
    "raw_data_bert.to_csv(\"data_with_similarity_scores.csv\", index=False)"
   ]
  },
  {
   "cell_type": "code",
   "execution_count": null,
   "metadata": {
    "id": "qmNqrIvGPj2-"
   },
   "outputs": [],
   "source": [
    "# similarity\n",
    "\n",
    "questions = raw_data_bert.question.unique()\n",
    "\n",
    "for question in questions:\n",
    "\n",
    "    sliced_data = raw_data_bert[raw_data_bert.question == question]\n",
    "    \n",
    "    mean = sliced_data.sim_ans_ans_score.mean()\n",
    "    std = sliced_data.sim_ans_ans_score.std()\n",
    "\n",
    "    normalized_dist = (sliced_data.sim_ans_ans_score.values - mean)/std\n",
    "\n",
    "    indexes = np.where(normalized_dist < normalized_dist.mean()-3*normalized_dist.std())[0]\n",
    "    false_slices = sliced_data.iloc[indexes].index\n",
    "\n",
    "    raw_data_bert.drop(raw_data_bert[raw_data_bert.index.isin(false_slices)].index, inplace = True)\n",
    "    \n",
    "raw_data_bert.index = pd.RangeIndex(len(raw_data_bert.index))"
   ]
  },
  {
   "cell_type": "code",
   "execution_count": null,
   "metadata": {
    "id": "oAuntEfTh0he"
   },
   "outputs": [],
   "source": [
    "raw_data_bert.to_csv(\"filtered_similarity.csv\", index=False)"
   ]
  },
  {
   "cell_type": "code",
   "execution_count": null,
   "metadata": {
    "id": "KGQZIiuWENnS"
   },
   "outputs": [],
   "source": [
    "raw_data_bert = pd.read_csv(\"filtered_similarity.csv\")"
   ]
  },
  {
   "cell_type": "code",
   "execution_count": null,
   "metadata": {
    "id": "w6oRtvatUoJf"
   },
   "outputs": [],
   "source": [
    "all_mean = raw_data_bert.sim_ans_ans_score.mean()*raw_data_bert.sim_topic_ans_score.mean()*raw_data_bert.score.mean()*raw_data_bert.score2.mean()\n",
    "all_std = raw_data_bert.sim_ans_ans_score.std()*raw_data_bert.sim_topic_ans_score.std()*raw_data_bert.score.std()*raw_data_bert.score2.std()"
   ]
  },
  {
   "cell_type": "code",
   "execution_count": null,
   "metadata": {
    "id": "GxjVd9E9g5AV"
   },
   "outputs": [],
   "source": [
    "raw_data_bert[raw_data_bert.multiplication > all_mean - 3*all_std].to_csv('final_data.csv', index=False)"
   ]
  }
 ],
 "metadata": {
  "colab": {
   "authorship_tag": "ABX9TyPi0zZKwqzI4BI8ZCPzs5cp",
   "collapsed_sections": [],
   "name": "Concanate.ipynb",
   "provenance": []
  },
  "kernelspec": {
   "display_name": "Python 3 (ipykernel)",
   "language": "python",
   "name": "python3"
  },
  "language_info": {
   "codemirror_mode": {
    "name": "ipython",
    "version": 3
   },
   "file_extension": ".py",
   "mimetype": "text/x-python",
   "name": "python",
   "nbconvert_exporter": "python",
   "pygments_lexer": "ipython3",
   "version": "3.9.10"
  }
 },
 "nbformat": 4,
 "nbformat_minor": 1
}
